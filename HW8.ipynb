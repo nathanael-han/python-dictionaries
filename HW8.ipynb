{
 "cells": [
  {
   "cell_type": "markdown",
   "metadata": {},
   "source": [
    "# Homework 8: Dictionaries and Sets\n",
    "## Due Sunday, April 5th 11:59 PM\n",
    "### Downey covers Dictionaries in Chapter 11\n",
    "#### Sets are briefly mentioned in Chapter 19\n",
    "\n",
    "## To pass the Unit Tests, your functions must always *return* a value\n",
    "It is not enough to *print* an answer: you must *return* it\n",
    "\n",
    "## Parker's Precept: never print in a function\n",
    "There are some exceptions, but it is a rule that helps you remember to return\n",
    "\n",
    "You are encouraged to use print statements in a function to debug it, but all results should be *returned*\n",
    "\n",
    "## Submit ipynb notebook and pdf of notebook after running all tests."
   ]
  },
  {
   "cell_type": "markdown",
   "metadata": {},
   "source": [
    "# Fill in your name"
   ]
  },
  {
   "cell_type": "code",
   "execution_count": 1,
   "metadata": {},
   "outputs": [],
   "source": [
    "first_name = \"Nathanael\"\n",
    "last_name = \"Han\"\n",
    "\n",
    "assert(len(first_name) != 0)\n",
    "assert(len(last_name) != 0)"
   ]
  },
  {
   "cell_type": "markdown",
   "metadata": {},
   "source": [
    "# Problem 1: Dictionary\n",
    "Write a function that takes a list of pairs and uses it to build and return a dictionary.  Treat the elements of each pair as the value and the key.  \n",
    "\n",
    "Thus given the list\n",
    "\n",
    "```python\n",
    "[['one', 'uno']]\n",
    "```\n",
    "your function should return the dictionary\n",
    "```python\n",
    "{'one':'uno'}\n",
    "```\n",
    "and given the list\n",
    "\n",
    "```python\n",
    "[['rock', 'paper'], ['paper', 'scissors'], ['scissors', 'rock']]\n",
    "```\n",
    "your function should return the dictionary\n",
    "\n",
    "```python\n",
    "{'rock':'paper', 'paper':'scissors', 'scissors':'rock'}\n",
    "```\n",
    "\n",
    "## *Edit this cell to hold your solution*"
   ]
  },
  {
   "cell_type": "code",
   "execution_count": 2,
   "metadata": {},
   "outputs": [],
   "source": [
    "# Take a list of pairs and returns a dictionary\n",
    "\n",
    "def build_dictionary(lst):\n",
    "    '''This function creates a dictionary out of pairs of elements in a list'''\n",
    "    \n",
    "    dictionary = {}    # creates an empty dictionary\n",
    "    if len(lst) == 0:    # if the list is empty, returns an empty dictionary  \n",
    "        return {}\n",
    "    \n",
    "    for item in lst:\n",
    "        dictionary[item[0]] = item[1]     # iterates over the list, and creates keys and values from the pairs.\n",
    "    return dictionary"
   ]
  },
  {
   "cell_type": "markdown",
   "metadata": {},
   "source": [
    "## Unit Test cases for build_dictionary()\n",
    "## *Do not edit this cell*"
   ]
  },
  {
   "cell_type": "code",
   "execution_count": 3,
   "metadata": {},
   "outputs": [
    {
     "name": "stdout",
     "output_type": "stream",
     "text": [
      "{}\n",
      "{'one': 'uno'}\n",
      "{'rock': 'paper', 'paper': 'scissors', 'scissors': 'rock'}\n",
      "Success!\n"
     ]
    }
   ],
   "source": [
    "def test_build_dictionary():\n",
    "    print(build_dictionary([]))\n",
    "    assert(build_dictionary([]) == {})\n",
    "\n",
    "    print(build_dictionary([['one', 'uno']]))\n",
    "    assert(build_dictionary([['one', 'uno']]) == {'one':'uno'})\n",
    "\n",
    "\n",
    "    dict = build_dictionary([['rock', 'paper'], ['paper', 'scissors'], ['scissors', 'rock']])\n",
    "    print(dict)\n",
    "    assert(dict == {'rock':'paper', 'paper':'scissors', 'scissors':'rock'})\n",
    "\n",
    "    print('Success!')\n",
    "    \n",
    "test_build_dictionary()"
   ]
  },
  {
   "cell_type": "markdown",
   "metadata": {},
   "source": [
    "# Problem 2: DNA Complement\n",
    "\n",
    "In DNA strings, symbols 'A' and 'T' are complements of each other, as are 'C' and 'G'.\n",
    "\n",
    "The complement of a DNA string text is the string formed by \n",
    "reversing the string text, and then taking the complement of each symbol \n",
    "\n",
    "Write a function that takes a string representing a DNA sequence, and returns the Complement.\n",
    "\n",
    "Your function should use a Dictionary to map a symbol ('A') to its complement ('T')\n",
    "\n",
    "The type hint for this function would be\n",
    "```python\n",
    "def dna_complement(text: str) -> str:\n",
    "```"
   ]
  },
  {
   "cell_type": "code",
   "execution_count": 4,
   "metadata": {},
   "outputs": [],
   "source": [
    "def dna_complement(nt:str) -> str:\n",
    "    '''This function returns the \n",
    "    complement of a DNA sequence.'''\n",
    "    \n",
    "    upStr = nt.upper()    # turns the input into uppercase \n",
    "    dictDna = {'A': 'T', 'C': 'G', 'G': 'C', 'T': 'A'}    # dictionary of bases and their complements.\n",
    "    complement = ''.join([dictDna[base] for base in upStr[::-1]])    # creates the complement of the reverse \n",
    "    return complement\n",
    "\n"
   ]
  },
  {
   "cell_type": "markdown",
   "metadata": {},
   "source": [
    "## Unit Tests"
   ]
  },
  {
   "cell_type": "code",
   "execution_count": 5,
   "metadata": {},
   "outputs": [
    {
     "name": "stdout",
     "output_type": "stream",
     "text": [
      "T\n",
      "T\n",
      "G\n",
      "ATG\n",
      "ACCGGGTTTT\n",
      "Success!\n"
     ]
    }
   ],
   "source": [
    "def test_complement():\n",
    "    str = 'A'\n",
    "    print(dna_complement(str))\n",
    "    assert(str == 'A')\n",
    "    assert(dna_complement(str) == 'T')\n",
    "\n",
    "    str = 'a'\n",
    "    print(dna_complement(str))\n",
    "    assert(str == 'a')\n",
    "    assert(dna_complement(str) == 'T')\n",
    "\n",
    "    str = 'C'\n",
    "    print(dna_complement(str))\n",
    "    assert(str == 'C')\n",
    "    assert(dna_complement(str) == 'G')\n",
    "    \n",
    "    str = 'CaT'\n",
    "    print(dna_complement(str))\n",
    "    assert(str == 'CaT')\n",
    "    assert(dna_complement(str) == 'ATG')\n",
    "\n",
    "    str = 'AAAACCCGGT'\n",
    "    print(dna_complement(str))\n",
    "    assert(str == 'AAAACCCGGT')\n",
    "    assert(dna_complement(str) == 'ACCGGGTTTT')\n",
    "\n",
    "    print(\"Success!\")\n",
    "    \n",
    "test_complement()    "
   ]
  },
  {
   "cell_type": "markdown",
   "metadata": {},
   "source": [
    "# Problem 3: Solitary Words\n",
    "\n",
    "A word is *solitary* if no letter appears more than once.\n",
    "\n",
    "Thus 'once' is solitary.  'Solitary' is solitary.  'Pop' is not solitary.  \n",
    "\n",
    "Write a function that takes a string and returns a Boolean telling us if the string is solitary.  \n",
    "\n",
    "### Hint:\n",
    "Review Downey's discussion of Dictionary as a Collection of Counters.\n",
    "\n",
    "### Hint:\n",
    "You can also use a Set to keep track of the letters in a word\n",
    "\n",
    "### The type hint for this function would be\n",
    "\n",
    "```python\n",
    "def solitary(word: str) -> bool:\n",
    "```\n",
    "\n",
    "## *Edit this cell to hold your solution*"
   ]
  },
  {
   "cell_type": "code",
   "execution_count": 6,
   "metadata": {},
   "outputs": [],
   "source": [
    "def solitary(word):\n",
    "    \"\"\"This function returns True if the given word is 'solitary'  \"\"\"\n",
    "    \n",
    "    low = word.lower()    # makes the input lowercase\n",
    "    all_freq = {}    # creates an empty dictionary\n",
    "  \n",
    "\n",
    "    # This iterates over the lowercase word and counts the occurance of each letter.\n",
    "    for i in low: \n",
    "        if i in all_freq: \n",
    "            all_freq[i] += 1\n",
    "        else: \n",
    "            all_freq[i] = 1\n",
    "    Lstfreq = (list(all_freq.values()))    # returns the counts in the dictionary as a list\n",
    "    \n",
    "    \n",
    "    if Lstfreq.count(1) == len(word):    # if the number of ones matches the length of the word, it is \"solitary\".\n",
    "        return True \n",
    "\n"
   ]
  },
  {
   "cell_type": "markdown",
   "metadata": {},
   "source": [
    "## Unit Test cases for solitary()\n",
    "## *Do not edit this cell*"
   ]
  },
  {
   "cell_type": "code",
   "execution_count": 7,
   "metadata": {},
   "outputs": [
    {
     "name": "stdout",
     "output_type": "stream",
     "text": [
      "Success!\n"
     ]
    }
   ],
   "source": [
    "def test_solitary():\n",
    "    assert(solitary('abcd'))\n",
    "    assert(not solitary('aa'))\n",
    "    assert(solitary('solitary'))\n",
    "    assert(not solitary('Pop'))\n",
    "    \n",
    "    print('Success!')\n",
    "    \n",
    "test_solitary()"
   ]
  },
  {
   "cell_type": "markdown",
   "metadata": {},
   "source": [
    "# Problem 4: Beer and Wine\n",
    "We will provide you with a CSV file based on an entry in Data.Gov, the Fed's Open Data Project.  You may also want to take a look at Boston's open data initiative, \n",
    "\n",
    "https://data.boston.gov/dataset\n",
    "\n",
    "*When I'm eating in, I find it restful to take a look at the ratings of food establishments.  It makes dinner at home taste much better.*\n",
    "\n",
    "Read the data file provided.  Build a dictionary counting the number of times each city is mentioned.  Return a list of the cities in decreasing order, with the most frequently mentioned city first.  We will print the top ten cities.\n",
    "\n",
    "### Hint: \n",
    "\n",
    "Traverse your dictionary and make a list of each city and its frequency, such as\n",
    "\n",
    "```python\n",
    "    results = [['37', 'St. Louis'], ['16', 'Sebastopol'], ....]\n",
    "```\n",
    "\n",
    "and then sort the list.  Python will do the right thing and order the list by the first entry.\n",
    "\n",
    "Investigate sort() and sorted() - both take an optional parameter to sort in reverse order, or you can reverse the results by hand.  \n",
    "\n",
    "### Type hints for this would be\n",
    "\n",
    "```python\n",
    "def list_cities(filename: str) -> List[str]\n",
    "```"
   ]
  },
  {
   "cell_type": "code",
   "execution_count": 8,
   "metadata": {},
   "outputs": [],
   "source": [
    "import csv \n",
    "\n",
    "def list_cities(filename):\n",
    "    '''This function reads the Beer and Wine data\n",
    "    and returns the cities and how many times they occur in the data'''\n",
    "    \n",
    "    try:    \n",
    "        with open (filename,'r') as csv_file:\n",
    "            csv_reader = csv.reader(csv_file)    # reads the file.\n",
    "\n",
    "            new = []    # creates empty list for values\n",
    "            next(csv_reader)    # skips first header\n",
    "\n",
    "            for line in csv_reader:\n",
    "                new.append(line[4])    # only the cities are saved in the variable \"new\"\n",
    "\n",
    "\n",
    "            newDict = {}    # creates an empty dictionary for the cities and counts.\n",
    "\n",
    "            for city in new:    # counts the occurances of cities, in a dictionary.\n",
    "                if city in newDict:\n",
    "                    newDict[city] += 1\n",
    "                else:\n",
    "                    newDict[city] = 1\n",
    "\n",
    "            ordered = sorted((newDict[num], num) for num in newDict)    # sorts the dictionary\n",
    "\n",
    "            reordered = ordered [::-1]    # reverses the order\n",
    "\n",
    "            convertLst = [list(elem) for elem in reordered]    # converts list of tuples to list of lists\n",
    "\n",
    "            return convertLst\n",
    "    except:\n",
    "        print('Could not open')\n"
   ]
  },
  {
   "cell_type": "markdown",
   "metadata": {},
   "source": [
    "## Unit Test case for frequent_city()\n",
    "\n",
    "### Print the top ten most popular cities from the file\n",
    "\n",
    "### Hint: \n",
    "You function should return a list\n",
    "\n",
    "### Hint: \n",
    "The 2nd most popular city is St. Louis\n",
    "\n",
    "### Hint: \n",
    "The numbers given in the example in the problem are correct"
   ]
  },
  {
   "cell_type": "code",
   "execution_count": 9,
   "metadata": {},
   "outputs": [
    {
     "name": "stdout",
     "output_type": "stream",
     "text": [
      "[[62, 'NAPA'], [37, 'ST. LOUIS'], [34, 'ST. HELENA'], [34, 'NEW YORK'], [31, 'KANSAS CITY'], [27, 'HEALDSBURG'], [20, 'SANTA ROSA'], [18, 'SONOMA'], [18, 'CALISTOGA'], [16, 'SEBASTOPOL']]\n"
     ]
    }
   ],
   "source": [
    "print(list_cities(\"Missouri_Beer__Wine.csv\")[:10])"
   ]
  },
  {
   "cell_type": "markdown",
   "metadata": {},
   "source": [
    "# Post Mortem\n",
    "## How long did it take you to solve this problem set?\n",
    "## Did anything confuse you or cause difficulty?"
   ]
  },
  {
   "cell_type": "code",
   "execution_count": 10,
   "metadata": {},
   "outputs": [],
   "source": [
    "# This problem set took about 5 hours.\n"
   ]
  }
 ],
 "metadata": {
  "kernelspec": {
   "display_name": "Python 3",
   "language": "python",
   "name": "python3"
  },
  "language_info": {
   "codemirror_mode": {
    "name": "ipython",
    "version": 3
   },
   "file_extension": ".py",
   "mimetype": "text/x-python",
   "name": "python",
   "nbconvert_exporter": "python",
   "pygments_lexer": "ipython3",
   "version": "3.7.4"
  }
 },
 "nbformat": 4,
 "nbformat_minor": 1
}
